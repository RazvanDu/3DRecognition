{
 "cells": [
  {
   "cell_type": "code",
   "execution_count": 2,
   "metadata": {
    "collapsed": true,
    "pycharm": {
     "name": "#%%\n"
    },
    "trusted": false
   },
   "outputs": [],
   "source": [
    "import os\n",
    "\n",
    "import numpy as np\n",
    "import keras.models\n",
    "import trimesh\n",
    "import random\n",
    "import math\n",
    "import matplotlib.pyplot as plt\n",
    "\n",
    "import tensorflow as tf\n",
    "from PIL import Image\n",
    "from random import seed\n",
    "from random import random\n",
    "from sklearn.decomposition import PCA\n",
    "\n",
    "import keras"
   ]
  },
  {
   "cell_type": "code",
   "execution_count": 4,
   "metadata": {
    "pycharm": {
     "name": "#%%\n"
    },
    "trusted": false
   },
   "outputs": [],
   "source": [
    "def read_off(file):\n",
    "    return trimesh.load(file).sample(8192)\n",
    "    with open(file, 'r') as fp:\n",
    "        lines = fp.readlines()\n",
    "        lines = [line.strip() for line in lines]\n",
    "\n",
    "        parts = lines[1].split(' ')\n",
    "        nv = int(parts[0])\n",
    "        nf = int(parts[1])\n",
    "\n",
    "        vertices = []\n",
    "        for i in range(nv):\n",
    "            vertex = lines[2 + i].split(' ')\n",
    "            vertex = [float(point) for point in vertex]\n",
    "            vertices.append(vertex)\n",
    "\n",
    "        faces = []\n",
    "        for i in range(nf):\n",
    "            face = lines[2 + nv + i].split(' ')\n",
    "            face = [int(index) for index in face]\n",
    "            faces.append(face)\n",
    "\n",
    "        return vertices, faces\n",
    "\n",
    "\n",
    "def normalize(train_data):\n",
    "    current = 0\n",
    "    normalizedSize = 240\n",
    "    new_train_data = []\n",
    "\n",
    "    maxXReal = 0\n",
    "    maxYReal = 0\n",
    "    maxZReal = 0\n",
    "\n",
    "    for model in train_data:\n",
    "        minX = 123123123\n",
    "        minY = 123123123\n",
    "        minZ = 123123123\n",
    "        maxX = -123123123\n",
    "        maxY = -123123123\n",
    "        maxZ = -123123123\n",
    "\n",
    "        for point in model[1]:\n",
    "            minX = min(minX, point[0])\n",
    "            minY = min(minY, point[1])\n",
    "            minZ = min(minZ, point[2])\n",
    "            maxX = max(maxX, point[0])\n",
    "            maxY = max(maxY, point[1])\n",
    "            maxZ = max(maxZ, point[2])\n",
    "\n",
    "        result = []\n",
    "\n",
    "        if maxX - minX >= maxY - minY and maxX - minX >= maxZ - minZ:\n",
    "            divRatio = maxX - minX\n",
    "        elif maxY - minY >= maxX - minX and maxY - minY >= maxZ - minZ:\n",
    "            divRatio = maxY - minY\n",
    "        else:\n",
    "            divRatio = maxZ - minZ\n",
    "\n",
    "        for point in model[1]:\n",
    "            newX = ((point[0] - minX) / divRatio) * normalizedSize\n",
    "            newY = ((point[1] - minY) / divRatio) * normalizedSize\n",
    "            newZ = ((point[2] - minZ) / (maxZ - minZ)) * normalizedSize\n",
    "\n",
    "            maxXReal = max(maxXReal, newX)\n",
    "            maxYReal = max(maxYReal, newY)\n",
    "            maxZReal = max(maxZReal, newZ)\n",
    "\n",
    "            result.append(np.array([newX, newY, newZ]))\n",
    "\n",
    "            # print(str(point[0]) + \" + \" + str(point[1]) + \" + \" + str(point[2]))\n",
    "\n",
    "        new_train_data.append((model[0], np.array(result)))\n",
    "\n",
    "        current += 1\n",
    "\n",
    "        if current % 100 == 0:\n",
    "            print(current)\n",
    "\n",
    "        # print(str(minX) + \" + \" + str(maxX))\n",
    "    return new_train_data\n",
    "\n",
    "\n",
    "def changeView(data):\n",
    "    current = 0\n",
    "    normalizedSize = 240\n",
    "    images = []\n",
    "\n",
    "    for model in data:\n",
    "        slices = np.zeros((normalizedSize*4, normalizedSize*4), 'uint8')\n",
    "        for point in model[1]:\n",
    "            # point_slice = int((point[2] - 0.001) / 20)\n",
    "            # i = int(point_slice / 4)\n",
    "            # j = int(point_slice % 4)\n",
    "            # #targetI = int(point[0] - 0.01 + i * normalizedSize)\n",
    "            # #targetJ = int(point[1] - 0.01 + j * normalizedSize)\n",
    "            # for nextI in range(3):\n",
    "            #     for nextJ in range(3):\n",
    "            #         goI = int(point[0] + nextI - 1 - 0.01)\n",
    "            #         goJ = int(point[1] + nextJ - 1 - 0.01)\n",
    "            #\n",
    "            #         if goI < 0 or goI >= normalizedSize or goJ < 0 or goJ >= normalizedSize:\n",
    "            #             continue\n",
    "            #\n",
    "            #         slices[int(point[0] - 0.01), int(point[1] - 0.01), i] |= (3 << (2 * j))\n",
    "            point_slice = int((point[2] - 0.001) / 15)\n",
    "            i = int(point_slice / 4)\n",
    "            j = int(point_slice % 4)\n",
    "            targetI = int(point[0] - 0.01 + i * normalizedSize)\n",
    "            targetJ = int(point[1] - 0.01 + j * normalizedSize)\n",
    "            for nextI in range(3):\n",
    "                for nextJ in range(3):\n",
    "                    goI = targetI + nextI - 1\n",
    "                    goJ = targetJ + nextJ - 1\n",
    "\n",
    "                    if goI < 0 or goI >= 4*normalizedSize or goJ < 0 or goJ >= 4*normalizedSize:\n",
    "                        continue\n",
    "\n",
    "                    slices[goI, goJ] = 1\n",
    "\n",
    "\n",
    "        images.append((model[0], slices))\n",
    "        current += 1\n",
    "        if current % 100 == 0:\n",
    "            print(current)\n",
    "\n",
    "    return images\n",
    "\n",
    "\n",
    "def changeViewPCA_not(data):\n",
    "    current = 0\n",
    "    images = []\n",
    "\n",
    "    pca = PCA(n_components=3)\n",
    "\n",
    "    for model in data:\n",
    "\n",
    "        pcs = pca.fit_transform(model[1])\n",
    "\n",
    "        images.append((model[0], pcs))\n",
    "        current += 1\n",
    "        if current % 100 == 0:\n",
    "            print(current)\n",
    "\n",
    "    return images\n",
    "\n",
    "\n",
    "def changeViewPCA(data):\n",
    "    current = 0\n",
    "    images = []\n",
    "\n",
    "    pca = PCA(n_components=2)\n",
    "\n",
    "    for model in data:\n",
    "        pcs = []\n",
    "        m = list(model[1])\n",
    "        m.sort(key=lambda p: math.sqrt(p[0]**2 + p[1]**2 + p[2]**2))\n",
    "        m = np.array(m)\n",
    "        diff = 0\n",
    "        for i in range(0, m.shape[0] - 500, 500):\n",
    "            #if i == 0:\n",
    "            #   pcs = np.array(pca.fit_transform(model[1][i:i+10]))\n",
    "            p = pca.fit_transform(m[i:i+500])\n",
    "            #p = np.array(np.array([[x[0] + diff, x[1]] for x in p]))\n",
    "            pcs.append(p)\n",
    "            #diff += abs(p.min() - p.max())\n",
    "\n",
    "        images.append((model[0], np.array(pcs)))\n",
    "        current += 1\n",
    "        if current % 100 == 0:\n",
    "            print(current)\n",
    "\n",
    "    return images\n",
    "\n",
    "\n",
    "def changeViewPCAv(data):\n",
    "    current = 0\n",
    "    images = []\n",
    "\n",
    "    for model in data:\n",
    "        vertices = model[1][0]\n",
    "        faces = model[1][1]\n",
    "\n",
    "        pca = PCA(n_components=2)\n",
    "        vertices2d = pca.fit_transform(vertices)\n",
    "        real_faces = []\n",
    "\n",
    "        for face in faces:\n",
    "\n",
    "            points = []\n",
    "            for i in range(1, len(face), 1):\n",
    "                points.append(vertices2d[face[i]])\n",
    "\n",
    "            real_faces.append(points)\n",
    "\n",
    "        images.append((model[0], np.array(real_faces)))\n",
    "\n",
    "        current += 1\n",
    "        if current % 100 == 0:\n",
    "            print(current)\n",
    "\n",
    "    return images\n",
    "\n",
    "\n",
    "def plot3D(data):\n",
    "    fig = plt.figure(figsize=(5, 5))\n",
    "    ax = fig.add_subplot(111, projection=\"3d\")\n",
    "    ax.scatter(data[:, 0], data[:, 1], data[:, 2])\n",
    "    ax.view_init(30, 200)\n",
    "\n",
    "\n",
    "def plot2D(data):\n",
    "    plt.scatter(*zip(*data))"
   ]
  },
  {
   "cell_type": "code",
   "execution_count": null,
   "metadata": {
    "pycharm": {
     "name": "#%%\n",
     "is_executing": true
    },
    "trusted": false
   },
   "outputs": [
    {
     "name": "stdout",
     "output_type": "stream",
     "text": [
      "100\n",
      "200\n",
      "300\n",
      "400\n",
      "500\n",
      "600\n",
      "700\n",
      "800\n",
      "900\n",
      "1000\n",
      "1100\n",
      "1200\n",
      "1300\n",
      "4000\n",
      "4100\n",
      "4200\n",
      "4300\n",
      "4400\n",
      "4500\n",
      "4600\n",
      "4700\n",
      "4800\n"
     ]
    }
   ],
   "source": [
    "categories = [\"bathtub\", \"bed\", \"chair\", \"desk\", \"dresser\", \"monitor\", \"night_stand\", \"sofa\", \"table\", \"toilet\"]\n",
    "\n",
    "train_data = []\n",
    "test_data = []\n",
    "\n",
    "path = './ModelNet10/'\n",
    "\n",
    "current = 0\n",
    "\n",
    "for category in categories:\n",
    "\n",
    "    files_train = os.listdir(path + category + \"/train\")\n",
    "\n",
    "    for f in files_train:\n",
    "        train_data.append((category, read_off(path + category + \"/train/\" + f)))\n",
    "        current += 1\n",
    "        if current % 100 == 0:\n",
    "            print(current)\n",
    "\n",
    "    files_test = os.listdir(path + category + \"/test\")\n",
    "\n",
    "    for f in files_test:\n",
    "        test_data.append((category, read_off(path + category + \"/test/\" + f)))\n",
    "        current += 1\n",
    "        if current % 100 == 0:\n",
    "            print(current)"
   ]
  },
  {
   "cell_type": "code",
   "execution_count": 23,
   "metadata": {
    "pycharm": {
     "name": "#%%\n"
    },
    "trusted": false
   },
   "outputs": [
    {
     "name": "stdout",
     "output_type": "stream",
     "text": "100\n200\n300\n400\n500\n600\n700\n800\n900\n1000\n1100\n1200\n1300\n1400\n1500\n1600\n1700\n1800\n1900\n2000\n2100\n2200\n2300\n2400\n2500\n2600\n2700\n2800\n2900\n3000\n3100\n3200\n3300\n3400\n3500\n3600\n3700\n3800\n3900\n100\n200\n300\n400\n500\n600\n700\n800\n900\n"
    }
   ],
   "source": "train_data_n = normalize(train_data)\ntest_data_n = normalize(test_data)"
  },
  {
   "cell_type": "code",
   "execution_count": 91,
   "metadata": {
    "pycharm": {
     "name": "#%%\n"
    },
    "trusted": false
   },
   "outputs": [
    {
     "name": "stdout",
     "output_type": "stream",
     "text": "100\n200\n300\n400\n500\n600\n700\n800\n900\n1000\n1100\n1200\n1300\n1400\n1500\n1600\n1700\n1800\n1900\n2000\n2100\n2200\n2300\n2400\n2500\n2600\n2700\n2800\n2900\n3000\n3100\n3200\n3300\n3400\n3500\n3600\n3700\n3800\n3900\n100\n200\n300\n400\n500\n600\n700\n800\n900\n"
    }
   ],
   "source": "#yes\n#train_images = changeView(train_data)\n#test_images = changeView(test_data)\n\n#no\n#train_images = changeViewPCA(train_data)\n#test_images = changeViewPCA(test_data)\n\ntrain_images = changeViewPCA_not(train_data)\ntest_images = changeViewPCA_not(test_data)"
  },
  {
   "cell_type": "code",
   "execution_count": 94,
   "outputs": [
    {
     "data": {
      "text/plain": "<Figure size 360x360 with 1 Axes>",
      "image/png": "[encoded data removed]"
     },
     "metadata": {
      "needs_background": "light"
     },
     "output_type": "display_data"
    }
   ],
   "source": "plot3D(train_images[0][1])",
   "metadata": {
    "collapsed": false,
    "pycharm": {
     "name": "#%%\n"
    },
    "trusted": false
   }
  },
  {
   "cell_type": "code",
   "execution_count": 54,
   "outputs": [
    {
     "data": {
      "text/plain": "array([0.49831891, 0.4373903 , 0.06429079])"
     },
     "execution_count": 54,
     "metadata": {},
     "output_type": "execute_result"
    }
   ],
   "source": "vertices = train_data[0][1][0]\nfaces = train_data[0][1][1]\npca = PCA(n_components=3)\nvertices2d = pca.fit_transform(vertices)\npca.explained_variance_ratio_",
   "metadata": {
    "collapsed": false,
    "pycharm": {
     "name": "#%%\n"
    },
    "trusted": false
   }
  },
  {
   "cell_type": "code",
   "execution_count": 44,
   "outputs": [],
   "source": "#from occmodel import Face, Solid, OCCError\n\nreal_faces = []\nfor face in faces:\n\n    points = []\n    for i in range(1, len(face), 1):\n        points.append(vertices2d[face[i]])\n\n    real_faces.append(points)\n\n# occfaces = []\n# for real_face in real_faces:\n#     if len(real_face) == 3:\n#         try:\n#             occfaces.append(Face().createPolygonal(real_face))\n#         except OCCError as e:\n#             print(e, real_face)\n#     else:\n#         assert(False)\n\n",
   "metadata": {
    "collapsed": false,
    "pycharm": {
     "name": "#%%\n"
    },
    "trusted": false
   }
  },
  {
   "cell_type": "code",
   "execution_count": 48,
   "outputs": [
    {
     "data": {
      "text/plain": "(29158, 3, 2)"
     },
     "execution_count": 48,
     "metadata": {},
     "output_type": "execute_result"
    }
   ],
   "source": "real_faces_pcs = np.array(real_faces)\nreal_faces_pcs.shape",
   "metadata": {
    "collapsed": false,
    "pycharm": {
     "name": "#%%\n"
    },
    "trusted": false
   }
  },
  {
   "cell_type": "code",
   "execution_count": 71,
   "metadata": {
    "pycharm": {
     "name": "#%%\n"
    },
    "trusted": false
   },
   "outputs": [
    {
     "name": "stderr",
     "output_type": "stream",
     "text": "/tmp/ipykernel_126482/3398517217.py:1: VisibleDeprecationWarning: Creating an ndarray from ragged nested sequences (which is a list-or-tuple of lists-or-tuples-or ndarrays with different lengths or shapes) is deprecated. If you meant to do this, you must specify 'dtype=object' when creating the ndarray.\n  train_final = np.array([i[1] for i in train_images])\n"
    }
   ],
   "source": "train_final = np.array([i[1] for i in train_images])\ntrain_labels = np.array([categories.index(l) for l in [i[0] for i in train_images]])"
  },
  {
   "cell_type": "code",
   "execution_count": 72,
   "outputs": [
    {
     "name": "stderr",
     "output_type": "stream",
     "text": "/tmp/ipykernel_126482/2808246889.py:1: VisibleDeprecationWarning: Creating an ndarray from ragged nested sequences (which is a list-or-tuple of lists-or-tuples-or ndarrays with different lengths or shapes) is deprecated. If you meant to do this, you must specify 'dtype=object' when creating the ndarray.\n  test_final = np.array([i[1] for i in test_images])\n"
    }
   ],
   "source": "test_final = np.array([i[1] for i in test_images])\ntest_labels = np.array([categories.index(l) for l in [i[0] for i in test_images]])",
   "metadata": {
    "collapsed": false,
    "pycharm": {
     "name": "#%%\n"
    },
    "trusted": false
   }
  },
  {
   "cell_type": "code",
   "execution_count": 78,
   "outputs": [
    {
     "data": {
      "text/plain": "(1184, 3, 2)"
     },
     "execution_count": 78,
     "metadata": {},
     "output_type": "execute_result"
    }
   ],
   "source": "train_final[2333].shape",
   "metadata": {
    "collapsed": false,
    "pycharm": {
     "name": "#%%\n"
    },
    "trusted": false
   }
  },
  {
   "cell_type": "code",
   "execution_count": 79,
   "metadata": {
    "pycharm": {
     "name": "#%%\n"
    },
    "trusted": false
   },
   "outputs": [
    {
     "name": "stderr",
     "output_type": "stream",
     "text": "2022-01-14 18:55:31.742578: I tensorflow/stream_executor/cuda/cuda_gpu_executor.cc:939] successful NUMA node read from SysFS had negative value (-1), but there must be at least one NUMA node, so returning NUMA node zero\n2022-01-14 18:55:31.742846: W tensorflow/stream_executor/platform/default/dso_loader.cc:64] Could not load dynamic library 'libcudart.so.11.0'; dlerror: libcudart.so.11.0: cannot open shared object file: No such file or directory\n2022-01-14 18:55:31.742898: W tensorflow/stream_executor/platform/default/dso_loader.cc:64] Could not load dynamic library 'libcublas.so.11'; dlerror: libcublas.so.11: cannot open shared object file: No such file or directory\n2022-01-14 18:55:31.742940: W tensorflow/stream_executor/platform/default/dso_loader.cc:64] Could not load dynamic library 'libcublasLt.so.11'; dlerror: libcublasLt.so.11: cannot open shared object file: No such file or directory\n2022-01-14 18:55:31.742981: W tensorflow/stream_executor/platform/default/dso_loader.cc:64] Could not load dynamic library 'libcufft.so.10'; dlerror: libcufft.so.10: cannot open shared object file: No such file or directory\n2022-01-14 18:55:31.743022: W tensorflow/stream_executor/platform/default/dso_loader.cc:64] Could not load dynamic library 'libcurand.so.10'; dlerror: libcurand.so.10: cannot open shared object file: No such file or directory\n2022-01-14 18:55:31.743060: W tensorflow/stream_executor/platform/default/dso_loader.cc:64] Could not load dynamic library 'libcusolver.so.11'; dlerror: libcusolver.so.11: cannot open shared object file: No such file or directory\n2022-01-14 18:55:31.743100: W tensorflow/stream_executor/platform/default/dso_loader.cc:64] Could not load dynamic library 'libcusparse.so.11'; dlerror: libcusparse.so.11: cannot open shared object file: No such file or directory\n2022-01-14 18:55:31.743150: W tensorflow/stream_executor/platform/default/dso_loader.cc:64] Could not load dynamic library 'libcudnn.so.8'; dlerror: libcudnn.so.8: cannot open shared object file: No such file or directory\n2022-01-14 18:55:31.743166: W tensorflow/core/common_runtime/gpu/gpu_device.cc:1850] Cannot dlopen some GPU libraries. Please make sure the missing libraries mentioned above are installed properly if you would like to use GPU. Follow the guide at https://www.tensorflow.org/install/gpu for how to download and setup the required libraries for your platform.\nSkipping registering GPU devices...\n2022-01-14 18:55:31.743440: I tensorflow/core/platform/cpu_feature_guard.cc:151] This TensorFlow binary is optimized with oneAPI Deep Neural Network Library (oneDNN) to use the following CPU instructions in performance-critical operations:  AVX2 AVX512F FMA\nTo enable them in other operations, rebuild TensorFlow with the appropriate compiler flags.\n"
    }
   ],
   "source": "model = tf.keras.Sequential([\n    # tf.keras.layers.Conv2D(60, kernel_size=(3, 3), input_shape=(240*4, 240*4, 1)),\n    # tf.keras.layers.MaxPool2D(pool_size=(8, 8)),\n    # tf.keras.layers.Conv2D(60, kernel_size=(3, 3)),\n    # tf.keras.layers.MaxPool2D(pool_size=(8, 8)), # !!! 2 2\n    tf.keras.layers.Flatten(),\n    # tf.keras.layers.Dropout(0.7),\n    tf.keras.layers.Dense(128, activation='relu'),\n    tf.keras.layers.Dense(64, activation='relu'),\n    #tf.keras.layers.Dropout(0.5),\n    tf.keras.layers.Dense(32, activation='relu'),\n    tf.keras.layers.Dense(64, activation='relu'),\n    tf.keras.layers.Dense(128, activation='relu'),\n    tf.keras.layers.Dense(64, activation='relu'),\n    tf.keras.layers.Dense(32, activation='relu'),\n    #tf.keras.layers.Dropout(0.5),\n    tf.keras.layers.Dense(64, activation='relu'),\n    tf.keras.layers.Dense(128, activation='relu'),\n    tf.keras.layers.Dense(64, activation='relu'),\n    tf.keras.layers.Dense(64, activation='relu'),\n    tf.keras.layers.Dense(64, activation='relu'),\n    #tf.keras.layers.Dropout(0.5),\n    #tf.keras.layers.Dense(512, activation='relu'),\n    #tf.keras.layers.Dropout(0.5),\n    #tf.keras.layers.Dense(256, activation='relu'),\n    #tf.keras.layers.Dropout(0.5),\n    tf.keras.layers.Dense(10, activation='softmax')\n])\n\nmodel.compile(optimizer='adam',\n              loss=tf.keras.losses.SparseCategoricalCrossentropy(from_logits=False),\n              metrics=['accuracy'])"
  },
  {
   "cell_type": "code",
   "execution_count": 82,
   "metadata": {
    "pycharm": {
     "name": "#%%\n"
    },
    "trusted": false
   },
   "outputs": [
    {
     "ename": "ValueError",
     "evalue": "Failed to convert a NumPy array to a Tensor (Unsupported object type numpy.ndarray).",
     "output_type": "error",
     "traceback": [
      "\u001B[0;31m---------------------------------------------------------------------------\u001B[0m",
      "\u001B[0;31mValueError\u001B[0m                                Traceback (most recent call last)",
      "\u001B[0;32m/tmp/ipykernel_126482/2169949178.py\u001B[0m in \u001B[0;36m<module>\u001B[0;34m\u001B[0m\n\u001B[0;32m----> 1\u001B[0;31m \u001B[0mmodel\u001B[0m\u001B[0;34m.\u001B[0m\u001B[0mfit\u001B[0m\u001B[0;34m(\u001B[0m\u001B[0mtrain_final\u001B[0m\u001B[0;34m,\u001B[0m \u001B[0mtrain_labels\u001B[0m\u001B[0;34m,\u001B[0m \u001B[0mepochs\u001B[0m\u001B[0;34m=\u001B[0m\u001B[0;36m40\u001B[0m\u001B[0;34m)\u001B[0m\u001B[0;34m\u001B[0m\u001B[0;34m\u001B[0m\u001B[0m\n\u001B[0m",
      "\u001B[0;32m~/ThreeObjectRecognition/research/lib/python3.8/site-packages/keras/utils/traceback_utils.py\u001B[0m in \u001B[0;36merror_handler\u001B[0;34m(*args, **kwargs)\u001B[0m\n\u001B[1;32m     65\u001B[0m     \u001B[0;32mexcept\u001B[0m \u001B[0mException\u001B[0m \u001B[0;32mas\u001B[0m \u001B[0me\u001B[0m\u001B[0;34m:\u001B[0m  \u001B[0;31m# pylint: disable=broad-except\u001B[0m\u001B[0;34m\u001B[0m\u001B[0;34m\u001B[0m\u001B[0m\n\u001B[1;32m     66\u001B[0m       \u001B[0mfiltered_tb\u001B[0m \u001B[0;34m=\u001B[0m \u001B[0m_process_traceback_frames\u001B[0m\u001B[0;34m(\u001B[0m\u001B[0me\u001B[0m\u001B[0;34m.\u001B[0m\u001B[0m__traceback__\u001B[0m\u001B[0;34m)\u001B[0m\u001B[0;34m\u001B[0m\u001B[0;34m\u001B[0m\u001B[0m\n\u001B[0;32m---> 67\u001B[0;31m       \u001B[0;32mraise\u001B[0m \u001B[0me\u001B[0m\u001B[0;34m.\u001B[0m\u001B[0mwith_traceback\u001B[0m\u001B[0;34m(\u001B[0m\u001B[0mfiltered_tb\u001B[0m\u001B[0;34m)\u001B[0m \u001B[0;32mfrom\u001B[0m \u001B[0;32mNone\u001B[0m\u001B[0;34m\u001B[0m\u001B[0;34m\u001B[0m\u001B[0m\n\u001B[0m\u001B[1;32m     68\u001B[0m     \u001B[0;32mfinally\u001B[0m\u001B[0;34m:\u001B[0m\u001B[0;34m\u001B[0m\u001B[0;34m\u001B[0m\u001B[0m\n\u001B[1;32m     69\u001B[0m       \u001B[0;32mdel\u001B[0m \u001B[0mfiltered_tb\u001B[0m\u001B[0;34m\u001B[0m\u001B[0;34m\u001B[0m\u001B[0m\n",
      "\u001B[0;32m~/ThreeObjectRecognition/research/lib/python3.8/site-packages/tensorflow/python/framework/constant_op.py\u001B[0m in \u001B[0;36mconvert_to_eager_tensor\u001B[0;34m(value, ctx, dtype)\u001B[0m\n\u001B[1;32m    104\u001B[0m       \u001B[0mdtype\u001B[0m \u001B[0;34m=\u001B[0m \u001B[0mdtypes\u001B[0m\u001B[0;34m.\u001B[0m\u001B[0mas_dtype\u001B[0m\u001B[0;34m(\u001B[0m\u001B[0mdtype\u001B[0m\u001B[0;34m)\u001B[0m\u001B[0;34m.\u001B[0m\u001B[0mas_datatype_enum\u001B[0m\u001B[0;34m\u001B[0m\u001B[0;34m\u001B[0m\u001B[0m\n\u001B[1;32m    105\u001B[0m   \u001B[0mctx\u001B[0m\u001B[0;34m.\u001B[0m\u001B[0mensure_initialized\u001B[0m\u001B[0;34m(\u001B[0m\u001B[0;34m)\u001B[0m\u001B[0;34m\u001B[0m\u001B[0;34m\u001B[0m\u001B[0m\n\u001B[0;32m--> 106\u001B[0;31m   \u001B[0;32mreturn\u001B[0m \u001B[0mops\u001B[0m\u001B[0;34m.\u001B[0m\u001B[0mEagerTensor\u001B[0m\u001B[0;34m(\u001B[0m\u001B[0mvalue\u001B[0m\u001B[0;34m,\u001B[0m \u001B[0mctx\u001B[0m\u001B[0;34m.\u001B[0m\u001B[0mdevice_name\u001B[0m\u001B[0;34m,\u001B[0m \u001B[0mdtype\u001B[0m\u001B[0;34m)\u001B[0m\u001B[0;34m\u001B[0m\u001B[0;34m\u001B[0m\u001B[0m\n\u001B[0m\u001B[1;32m    107\u001B[0m \u001B[0;34m\u001B[0m\u001B[0m\n\u001B[1;32m    108\u001B[0m \u001B[0;34m\u001B[0m\u001B[0m\n",
      "\u001B[0;31mValueError\u001B[0m: Failed to convert a NumPy array to a Tensor (Unsupported object type numpy.ndarray)."
     ]
    }
   ],
   "source": "model.fit(train_final, train_labels, epochs=40)"
  },
  {
   "cell_type": "code",
   "execution_count": 65,
   "metadata": {
    "pycharm": {
     "name": "#%%\n"
    },
    "trusted": false
   },
   "outputs": [
    {
     "name": "stdout",
     "output_type": "stream",
     "text": "29/29 - 0s - loss: 4.4401 - accuracy: 0.1112 - 81ms/epoch - 3ms/step\n\nTest accuracy: 0.11123348027467728\n"
    }
   ],
   "source": "test_loss, test_acc = model.evaluate(test_final, test_labels, verbose=2)\n\nprint('\\nTest accuracy:', test_acc)"
  },
  {
   "cell_type": "code",
   "execution_count": null,
   "metadata": {
    "pycharm": {
     "name": "#%%\n"
    },
    "trusted": false
   },
   "outputs": [],
   "source": "model.save(\"first.h5\")\ndel model"
  },
  {
   "cell_type": "code",
   "execution_count": null,
   "metadata": {
    "pycharm": {
     "name": "#%%\n"
    },
    "trusted": false
   },
   "outputs": [],
   "source": "i = 0"
  },
  {
   "cell_type": "code",
   "execution_count": null,
   "metadata": {
    "pycharm": {
     "name": "#%%\n"
    },
    "trusted": false
   },
   "outputs": [],
   "source": "while 1:\n    i += 1\n    print(i)\n    print(train_final.shape, train_labels.shape)\n    model.fit(train_final, train_labels, epochs=1)\n    test_loss, test_acc = model.evaluate(test_final, test_labels, verbose=2)\n    print('Test accuracy:', test_acc, '\\n')"
  },
  {
   "cell_type": "code",
   "execution_count": null,
   "metadata": {
    "pycharm": {
     "name": "#%%\n"
    },
    "trusted": false
   },
   "outputs": [],
   "source": "test_loss, test_acc = model.evaluate(test_final, test_labels, verbose=2)\nprint('Test accuracy:', test_acc, '\\n')"
  },
  {
   "cell_type": "code",
   "execution_count": null,
   "metadata": {
    "pycharm": {
     "name": "#%%\n"
    },
    "trusted": false
   },
   "outputs": [],
   "source": "model.save(\"third.h5\")\nnp.save('train_final_third.npy', train_final)\nnp.save('test_final_third.npy', test_final)\nnp.save('train_labels_third.npy', train_labels)\nnp.save('test_labels_third.npy', test_labels)"
  },
  {
   "cell_type": "code",
   "execution_count": null,
   "metadata": {
    "pycharm": {
     "name": "#%%\n"
    },
    "trusted": false
   },
   "outputs": [],
   "source": "model = keras.models.load_model(\"third.h5\")\ntrain_final = np.load(\"train_final_third.npy\")\ntest_final = np.load(\"test_final_third.npy\")\ntrain_labels = np.load(\"train_labels_third.npy\")\ntest_labels = np.load(\"test_labels_third.npy\")"
  }
 ],
 "metadata": {
  "kernelspec": {
   "display_name": "Python 3 (ipykernel)",
   "language": "python",
   "name": "python3"
  },
  "language_info": {
   "codemirror_mode": {
    "name": "ipython",
    "version": 3
   },
   "file_extension": ".py",
   "mimetype": "text/x-python",
   "name": "python",
   "nbconvert_exporter": "python",
   "pygments_lexer": "ipython3",
   "version": "3.8.10"
  }
 },
 "nbformat": 4,
 "nbformat_minor": 1
}