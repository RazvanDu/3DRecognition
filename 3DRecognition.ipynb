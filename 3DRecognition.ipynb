{
 "cells": [
  {
   "cell_type": "markdown",
   "source": [
    "### Imports"
   ],
   "metadata": {
    "collapsed": false,
    "pycharm": {
     "name": "#%% md\n"
    }
   }
  },
  {
   "cell_type": "code",
   "execution_count": 230,
   "outputs": [],
   "source": [
    "import os\n",
    "import numpy as np\n",
    "import trimesh\n",
    "import random\n",
    "import math\n",
    "import matplotlib.pyplot as plt\n",
    "\n",
    "import tensorflow as tf\n",
    "import keras\n",
    "import keras.models\n",
    "\n",
    "from PIL import Image\n",
    "from random import seed\n",
    "from random import random\n",
    "from sklearn.decomposition import PCA\n",
    "\n",
    "import keyboard"
   ],
   "metadata": {
    "collapsed": false,
    "pycharm": {
     "name": "#%%\n"
    },
    "trusted": false
   }
  },
  {
   "cell_type": "markdown",
   "source": [
    "### Read data"
   ],
   "metadata": {
    "collapsed": false,
    "pycharm": {
     "name": "#%% md\n"
    }
   }
  },
  {
   "cell_type": "code",
   "execution_count": 17,
   "metadata": {
    "pycharm": {
     "name": "#%%\n"
    },
    "trusted": false
   },
   "outputs": [],
   "source": [
    "def read_off(file):\n",
    "    return trimesh.load(file).sample(8192)\n",
    "\n",
    "\n",
    "def plot3D(data):\n",
    "    fig = plt.figure(figsize=(5, 5))\n",
    "    ax = fig.add_subplot(111, projection=\"3d\")\n",
    "    ax.scatter(data[:, 0], data[:, 1], data[:, 2])\n",
    "    ax.view_init(30, 200)\n",
    "\n",
    "\n",
    "def plot2DBW(data):\n",
    "    plt.imshow(data[1],'gray')\n",
    "    plt.show()"
   ]
  },
  {
   "cell_type": "code",
   "execution_count": 3,
   "metadata": {
    "pycharm": {
     "name": "#%%\n"
    },
    "trusted": false
   },
   "outputs": [
    {
     "name": "stdout",
     "output_type": "stream",
     "text": [
      "100\n",
      "200\n",
      "300\n",
      "400\n",
      "500\n",
      "600\n",
      "700\n",
      "800\n",
      "900\n",
      "1000\n",
      "1100\n",
      "1200\n",
      "1300\n",
      "1400\n",
      "1500\n",
      "1600\n",
      "1700\n",
      "1800\n",
      "1900\n",
      "2000\n",
      "2100\n",
      "2200\n",
      "2300\n",
      "2400\n",
      "2500\n",
      "2600\n",
      "2700\n",
      "2800\n",
      "2900\n",
      "3000\n",
      "3100\n",
      "3200\n",
      "3300\n",
      "3400\n",
      "3500\n",
      "3600\n",
      "3700\n",
      "3800\n",
      "3900\n",
      "4000\n",
      "4100\n",
      "4200\n",
      "4300\n",
      "4400\n",
      "4500\n",
      "4600\n",
      "4700\n",
      "4800\n"
     ]
    }
   ],
   "source": [
    "categories = [\"bathtub\", \"bed\", \"chair\", \"desk\", \"dresser\", \"monitor\", \"night_stand\", \"sofa\", \"table\", \"toilet\"]\n",
    "\n",
    "train_data = []\n",
    "test_data = []\n",
    "\n",
    "path = './ModelNet10/'\n",
    "\n",
    "current = 0\n",
    "\n",
    "for category in categories:\n",
    "\n",
    "    files_train = os.listdir(path + category + \"/train\")\n",
    "\n",
    "    for f in files_train:\n",
    "        train_data.append((category, read_off(path + category + \"/train/\" + f)))\n",
    "        current += 1\n",
    "        if current % 100 == 0:\n",
    "            print(current)\n",
    "\n",
    "    files_test = os.listdir(path + category + \"/test\")\n",
    "\n",
    "    for f in files_test:\n",
    "        test_data.append((category, read_off(path + category + \"/test/\" + f)))\n",
    "        current += 1\n",
    "        if current % 100 == 0:\n",
    "            print(current)"
   ]
  },
  {
   "cell_type": "markdown",
   "source": [
    "### Normalize"
   ],
   "metadata": {
    "collapsed": false,
    "pycharm": {
     "name": "#%% md\n"
    }
   }
  },
  {
   "cell_type": "code",
   "execution_count": 4,
   "outputs": [],
   "source": [
    "def normalize(train_data):\n",
    "    current = 0\n",
    "    normalizedSize = 240\n",
    "    new_train_data = []\n",
    "\n",
    "    maxXReal = 0\n",
    "    maxYReal = 0\n",
    "    maxZReal = 0\n",
    "\n",
    "    for model in train_data:\n",
    "        minX = 123123123\n",
    "        minY = 123123123\n",
    "        minZ = 123123123\n",
    "        maxX = -123123123\n",
    "        maxY = -123123123\n",
    "        maxZ = -123123123\n",
    "\n",
    "        for point in model[1]:\n",
    "            minX = min(minX, point[0])\n",
    "            minY = min(minY, point[1])\n",
    "            minZ = min(minZ, point[2])\n",
    "            maxX = max(maxX, point[0])\n",
    "            maxY = max(maxY, point[1])\n",
    "            maxZ = max(maxZ, point[2])\n",
    "\n",
    "        result = []\n",
    "\n",
    "        if maxX - minX >= maxY - minY and maxX - minX >= maxZ - minZ:\n",
    "            divRatio = maxX - minX\n",
    "        elif maxY - minY >= maxX - minX and maxY - minY >= maxZ - minZ:\n",
    "            divRatio = maxY - minY\n",
    "        else:\n",
    "            divRatio = maxZ - minZ\n",
    "\n",
    "        for point in model[1]:\n",
    "            newX = ((point[0] - minX) / divRatio) * normalizedSize\n",
    "            newY = ((point[1] - minY) / divRatio) * normalizedSize\n",
    "            newZ = ((point[2] - minZ) / (maxZ - minZ)) * normalizedSize\n",
    "\n",
    "            maxXReal = max(maxXReal, newX)\n",
    "            maxYReal = max(maxYReal, newY)\n",
    "            maxZReal = max(maxZReal, newZ)\n",
    "\n",
    "            result.append(np.array([newX, newY, newZ]))\n",
    "\n",
    "            # print(str(point[0]) + \" + \" + str(point[1]) + \" + \" + str(point[2]))\n",
    "\n",
    "        new_train_data.append((model[0], np.array(result)))\n",
    "\n",
    "        current += 1\n",
    "\n",
    "        if current % 100 == 0:\n",
    "            print(current)\n",
    "\n",
    "        # print(str(minX) + \" + \" + str(maxX))\n",
    "    return new_train_data"
   ],
   "metadata": {
    "collapsed": false,
    "pycharm": {
     "name": "#%%\n"
    },
    "trusted": false
   }
  },
  {
   "cell_type": "code",
   "execution_count": 5,
   "metadata": {
    "pycharm": {
     "name": "#%%\n"
    },
    "trusted": false
   },
   "outputs": [
    {
     "name": "stdout",
     "output_type": "stream",
     "text": [
      "100\n",
      "200\n",
      "300\n",
      "400\n",
      "500\n",
      "600\n",
      "700\n",
      "800\n",
      "900\n",
      "1000\n",
      "1100\n",
      "1200\n",
      "1300\n",
      "1400\n",
      "1500\n",
      "1600\n",
      "1700\n",
      "1800\n",
      "1900\n",
      "2000\n",
      "2100\n",
      "2200\n",
      "2300\n",
      "2400\n",
      "2500\n",
      "2600\n",
      "2700\n",
      "2800\n",
      "2900\n",
      "3000\n",
      "3100\n",
      "3200\n",
      "3300\n",
      "3400\n",
      "3500\n",
      "3600\n",
      "3700\n",
      "3800\n",
      "3900\n",
      "100\n",
      "200\n",
      "300\n",
      "400\n",
      "500\n",
      "600\n",
      "700\n",
      "800\n",
      "900\n"
     ]
    }
   ],
   "source": [
    "train_data_n = normalize(train_data)\n",
    "test_data_n = normalize(test_data)"
   ]
  },
  {
   "cell_type": "code",
   "execution_count": 193,
   "outputs": [
    {
     "data": {
      "text/plain": "<Figure size 360x360 with 1 Axes>",
      "image/png": "[encoded data removed]"
     },
     "metadata": {
      "needs_background": "light"
     },
     "output_type": "display_data"
    }
   ],
   "source": [
    "index = 3\n",
    "plot3D(train_data_n[index][1])"
   ],
   "metadata": {
    "collapsed": false,
    "pycharm": {
     "name": "#%%\n"
    }
   }
  },
  {
   "cell_type": "markdown",
   "source": [
    "### Process the data ( 2D simple slicing )"
   ],
   "metadata": {
    "collapsed": false,
    "pycharm": {
     "name": "#%% md\n"
    }
   }
  },
  {
   "cell_type": "code",
   "execution_count": 55,
   "outputs": [],
   "source": [
    "def changeView(data):\n",
    "    current = 0\n",
    "    normalizedSize = 240\n",
    "    images = []\n",
    "\n",
    "    for model in data:\n",
    "        slices = np.zeros((normalizedSize*4, normalizedSize*4), 'uint8')\n",
    "        for point in model[1]:\n",
    "            point_slice = int((point[2] - 0.001) / (normalizedSize / (numberOfImages)))\n",
    "            i = int(point_slice / 4)\n",
    "            j = int(point_slice % 4)\n",
    "            targetI = int(point[0] - 0.01 + i * normalizedSize)\n",
    "            targetJ = int(point[1] - 0.01 + j * normalizedSize)\n",
    "            for nextI in range(3):\n",
    "                for nextJ in range(3):\n",
    "                    goI = targetI + nextI - 1\n",
    "                    goJ = targetJ + nextJ - 1\n",
    "\n",
    "                    if goI < 0 or goI >= 4*normalizedSize or goJ < 0 or goJ >= 4*normalizedSize:\n",
    "                        continue\n",
    "\n",
    "                    slices[goI, goJ] = 1\n",
    "        images.append((model[0], slices))\n",
    "        current += 1\n",
    "        if current % 100 == 0:\n",
    "            print(current)\n",
    "\n",
    "    return images"
   ],
   "metadata": {
    "collapsed": false,
    "pycharm": {
     "name": "#%%\n"
    },
    "trusted": false
   }
  },
  {
   "cell_type": "code",
   "execution_count": 7,
   "metadata": {
    "pycharm": {
     "name": "#%%\n"
    },
    "trusted": false
   },
   "outputs": [
    {
     "name": "stdout",
     "output_type": "stream",
     "text": [
      "100\n",
      "200\n",
      "300\n",
      "400\n",
      "500\n",
      "600\n",
      "700\n",
      "800\n",
      "900\n",
      "1000\n",
      "1100\n",
      "1200\n",
      "1300\n",
      "1400\n",
      "1500\n",
      "1600\n",
      "1700\n",
      "1800\n",
      "1900\n",
      "2000\n",
      "2100\n",
      "2200\n",
      "2300\n",
      "2400\n",
      "2500\n",
      "2600\n",
      "2700\n",
      "2800\n",
      "2900\n",
      "3000\n",
      "3100\n",
      "3200\n",
      "3300\n",
      "3400\n",
      "3500\n",
      "3600\n",
      "3700\n",
      "3800\n",
      "3900\n",
      "100\n",
      "200\n",
      "300\n",
      "400\n",
      "500\n",
      "600\n",
      "700\n",
      "800\n",
      "900\n"
     ]
    }
   ],
   "source": [
    "train_images = changeView(train_data_n)\n",
    "test_images = changeView(test_data_n)"
   ]
  },
  {
   "cell_type": "code",
   "execution_count": 404,
   "outputs": [
    {
     "data": {
      "text/plain": "<Figure size 432x288 with 1 Axes>",
      "image/png": "[encoded data removed]"
     },
     "metadata": {
      "needs_background": "light"
     },
     "output_type": "display_data"
    }
   ],
   "source": [
    "plot2DBW(train_images[850])"
   ],
   "metadata": {
    "collapsed": false,
    "pycharm": {
     "name": "#%%\n"
    }
   }
  },
  {
   "cell_type": "markdown",
   "source": [
    "### Process the data ( 2D multiaxis slicing )"
   ],
   "metadata": {
    "collapsed": false,
    "pycharm": {
     "name": "#%% md\n"
    }
   }
  },
  {
   "cell_type": "code",
   "execution_count": 236,
   "outputs": [],
   "source": [
    "def changeViewRGB(data):\n",
    "    current = 0\n",
    "    normalizedSize = 80\n",
    "    images = []\n",
    "\n",
    "    for model in data:\n",
    "        slices = np.zeros((3, normalizedSize, normalizedSize, 3), 'uint8')\n",
    "        dividend = int(255/4)\n",
    "        for point in model[1]:\n",
    "            point_slice_x = int((point[0] - 0.001) / 20)\n",
    "            point_slice_y = int((point[1] - 0.001) / 20)\n",
    "            point_slice_z = int((point[2] - 0.001) / 20)\n",
    "            i = int(point_slice_x / 4)\n",
    "            j = int(point_slice_y / 4)\n",
    "            k = int(point_slice_z / 4)\n",
    "\n",
    "            goI = int((point[0] - 1 - 0.01)/3)\n",
    "            goJ = int((point[1] - 1 - 0.01)/3)\n",
    "\n",
    "            if 0 <= goI < normalizedSize and 0 <= goJ < normalizedSize:\n",
    "                slices[0, goI, goJ, k] += dividend\n",
    "\n",
    "            goI = int((point[0] - 1 - 0.01)/3)\n",
    "            goJ = int((point[2] - 1 - 0.01)/3)\n",
    "\n",
    "            if 0 <= goI < normalizedSize and 0 <= goJ < normalizedSize:\n",
    "                slices[1, goI, goJ, j] += dividend\n",
    "\n",
    "            goI = int((point[1] - 1 - 0.01)/3)\n",
    "            goJ = int((point[2] - 1 - 0.01)/3)\n",
    "\n",
    "            if 0 <= goI < normalizedSize and 0 <= goJ < normalizedSize:\n",
    "                slices[2, goI, goJ, i] += dividend\n",
    "\n",
    "            #slices[int(point[0] - 0.01), int(point[1] - 0.01), i] |= (3 << (2 * j))\n",
    "\n",
    "\n",
    "        images.append((model[0], slices))\n",
    "        current += 1\n",
    "        if current % 100 == 0:\n",
    "            print(current)\n",
    "\n",
    "    return images"
   ],
   "metadata": {
    "collapsed": false,
    "pycharm": {
     "name": "#%%\n"
    }
   }
  },
  {
   "cell_type": "code",
   "execution_count": 237,
   "outputs": [
    {
     "name": "stdout",
     "output_type": "stream",
     "text": [
      "100\n",
      "200\n",
      "300\n",
      "400\n",
      "500\n",
      "600\n",
      "700\n",
      "800\n",
      "900\n",
      "1000\n",
      "1100\n",
      "1200\n",
      "1300\n",
      "1400\n",
      "1500\n",
      "1600\n",
      "1700\n",
      "1800\n",
      "1900\n",
      "2000\n",
      "2100\n",
      "2200\n",
      "2300\n",
      "2400\n",
      "2500\n",
      "2600\n",
      "2700\n",
      "2800\n",
      "2900\n",
      "3000\n",
      "3100\n",
      "3200\n",
      "3300\n",
      "3400\n",
      "3500\n",
      "3600\n",
      "3700\n",
      "3800\n",
      "3900\n",
      "100\n",
      "200\n",
      "300\n",
      "400\n",
      "500\n",
      "600\n",
      "700\n",
      "800\n",
      "900\n"
     ]
    }
   ],
   "source": [
    "train_images_rgb = changeViewRGB(train_data_n)\n",
    "test_images_rgb = changeViewRGB(test_data_n)"
   ],
   "metadata": {
    "collapsed": false,
    "pycharm": {
     "name": "#%%\n"
    }
   }
  },
  {
   "cell_type": "code",
   "execution_count": 343,
   "outputs": [],
   "source": [
    "def combineToSinglePicture(data):\n",
    "    images = []\n",
    "    normalizedSize = 80\n",
    "    padding = int(0)\n",
    "    for image in data:\n",
    "        slices = np.zeros((normalizedSize, normalizedSize*3 + padding*2, 3), 'uint8')\n",
    "        slices[:, 0:normalizedSize,:] = image[1][0,:,:]\n",
    "        slices[:, normalizedSize + padding:2*normalizedSize + padding,:] = image[1][1,:,:]\n",
    "        slices[:, 2*normalizedSize + padding*2: 3*normalizedSize + padding*2,:] = image[1][2,:,:]\n",
    "        images.append((image[0], slices))\n",
    "    return images"
   ],
   "metadata": {
    "collapsed": false,
    "pycharm": {
     "name": "#%%\n"
    }
   }
  },
  {
   "cell_type": "code",
   "execution_count": 344,
   "outputs": [],
   "source": [
    "train_images_rgb_combined = combineToSinglePicture(train_images_rgb)\n",
    "test_images_rgb_combined = combineToSinglePicture(test_images_rgb)"
   ],
   "metadata": {
    "collapsed": false,
    "pycharm": {
     "name": "#%%\n"
    }
   }
  },
  {
   "cell_type": "code",
   "execution_count": 405,
   "outputs": [
    {
     "name": "stdout",
     "output_type": "stream",
     "text": [
      "bathtub\n"
     ]
    },
    {
     "data": {
      "text/plain": "<Figure size 432x288 with 1 Axes>",
      "image/png": "[encoded data removed]"
     },
     "metadata": {
      "needs_background": "light"
     },
     "output_type": "display_data"
    }
   ],
   "source": [
    "index = 4\n",
    "print(train_images_rgb_combined[index][0])\n",
    "plt.imshow(train_images_rgb_combined[index][1])\n",
    "plt.show()"
   ],
   "metadata": {
    "collapsed": false,
    "pycharm": {
     "name": "#%%\n"
    }
   }
  },
  {
   "cell_type": "markdown",
   "source": [
    "### Prepare to feed to the model"
   ],
   "metadata": {
    "collapsed": false,
    "pycharm": {
     "name": "#%% md\n"
    }
   }
  },
  {
   "cell_type": "code",
   "execution_count": 346,
   "metadata": {
    "pycharm": {
     "name": "#%%\n"
    },
    "trusted": false
   },
   "outputs": [],
   "source": [
    "train_final = np.array([i[1] for i in train_images_rgb_combined])\n",
    "train_labels = np.array([categories.index(l) for l in [i[0] for i in train_images_rgb_combined]])"
   ]
  },
  {
   "cell_type": "code",
   "execution_count": 347,
   "outputs": [],
   "source": [
    "test_final = np.array([i[1] for i in test_images_rgb_combined])\n",
    "test_labels = np.array([categories.index(l) for l in [i[0] for i in test_images_rgb_combined]])"
   ],
   "metadata": {
    "collapsed": false,
    "pycharm": {
     "name": "#%%\n"
    },
    "trusted": false
   }
  },
  {
   "cell_type": "code",
   "execution_count": 348,
   "outputs": [
    {
     "data": {
      "text/plain": "(80, 240, 3)"
     },
     "execution_count": 348,
     "metadata": {},
     "output_type": "execute_result"
    }
   ],
   "source": [
    "train_final[0].shape"
   ],
   "metadata": {
    "collapsed": false,
    "pycharm": {
     "name": "#%%\n"
    },
    "trusted": false
   }
  },
  {
   "cell_type": "markdown",
   "source": [
    "### The Model"
   ],
   "metadata": {
    "collapsed": false,
    "pycharm": {
     "name": "#%% md\n"
    }
   }
  },
  {
   "cell_type": "code",
   "execution_count": 377,
   "metadata": {
    "pycharm": {
     "name": "#%%\n"
    },
    "trusted": false
   },
   "outputs": [],
   "source": [
    "# model = tf.keras.Sequential([\n",
    "#     # tf.keras.layers.Conv2D(60, kernel_size=(3, 3), input_shape=(240*4, 240*4, 1)),\n",
    "#     # tf.keras.layers.MaxPool2D(pool_size=(8, 8)),\n",
    "#     # tf.keras.layers.Conv2D(60, kernel_size=(3, 3)),\n",
    "#     # tf.keras.layers.MaxPool2D(pool_size=(8, 8)), # !!! 2 2\n",
    "#     tf.keras.layers.Flatten(),\n",
    "#     # tf.keras.layers.Dropout(0.7),\n",
    "#     tf.keras.layers.Dense(512, activation='relu'),\n",
    "#     tf.keras.layers.Dense(256, activation='relu'),\n",
    "#     tf.keras.layers.Dense(128, activation='relu'),\n",
    "#     tf.keras.layers.Dense(64, activation='relu'),\n",
    "#     tf.keras.layers.Dense(32, activation='relu'),\n",
    "#     #tf.keras.layers.Dropout(0.5),\n",
    "#     #tf.keras.layers.Dense(512, activation='relu'),\n",
    "#     #tf.keras.layers.Dropout(0.5),\n",
    "#     #tf.keras.layers.Dense(256, activation='relu'),\n",
    "#     #tf.keras.layers.Dropout(0.5),\n",
    "#     tf.keras.layers.Dense(10, activation='softmax')\n",
    "# ])\n",
    "#\n",
    "# model.compile(optimizer='adam',\n",
    "#               loss=tf.keras.losses.SparseCategoricalCrossentropy(from_logits=False),\n",
    "#               metrics=['accuracy'])\n",
    "\n",
    "model = tf.keras.Sequential([\n",
    "    tf.keras.layers.Conv2D(64, kernel_size=2, input_shape=(80, 240, 3)),\n",
    "    tf.keras.layers.MaxPool2D(pool_size=(3, 3)),\n",
    "    tf.keras.layers.Conv2D(80, kernel_size=2),\n",
    "    tf.keras.layers.MaxPool2D(pool_size=(2, 2)),\n",
    "    tf.keras.layers.Conv2D(160, kernel_size=2),\n",
    "    tf.keras.layers.MaxPool2D(pool_size=(2, 2)),\n",
    "    tf.keras.layers.Conv2D(320, kernel_size=2),\n",
    "    tf.keras.layers.MaxPool2D(pool_size=(2, 2)),\n",
    "    tf.keras.layers.Flatten(),\n",
    "    tf.keras.layers.Dense(512, activation='relu'),\n",
    "    tf.keras.layers.Dense(1024, activation='relu'),\n",
    "    #tf.keras.layers.Dropout(0.5),\n",
    "    #tf.keras.layers.Dense(512, activation='relu'),\n",
    "    #tf.keras.layers.Dropout(0.5),\n",
    "    #tf.keras.layers.Dense(256, activation='relu'),\n",
    "    #tf.keras.layers.Dropout(0.5),\n",
    "    tf.keras.layers.Dense(10, activation='softmax')\n",
    "])\n",
    "\n",
    "model.compile(optimizer='adam',\n",
    "              loss=tf.keras.losses.SparseCategoricalCrossentropy(from_logits=False),\n",
    "              metrics=['accuracy'])"
   ]
  },
  {
   "cell_type": "code",
   "execution_count": 223,
   "metadata": {
    "pycharm": {
     "name": "#%%\n"
    },
    "trusted": false
   },
   "outputs": [
    {
     "name": "stdout",
     "output_type": "stream",
     "text": [
      "29/29 - 4s - loss: 411.7029 - accuracy: 0.7952 - 4s/epoch - 121ms/step\n",
      "\n",
      "Test accuracy: 0.7951542139053345\n"
     ]
    }
   ],
   "source": [
    "test_loss, test_acc = model.evaluate(test_final, test_labels, verbose=2)\n",
    "\n",
    "print('\\nTest accuracy:', test_acc)"
   ]
  },
  {
   "cell_type": "code",
   "execution_count": 391,
   "outputs": [
    {
     "name": "stdout",
     "output_type": "stream",
     "text": [
      "Epoch 1/6\n",
      "125/125 [==============================] - 13s 104ms/step - loss: 3.9816e-05 - accuracy: 1.0000\n",
      "Epoch 2/6\n",
      "125/125 [==============================] - 13s 103ms/step - loss: 3.5262e-05 - accuracy: 1.0000\n",
      "Epoch 3/6\n",
      "125/125 [==============================] - 13s 104ms/step - loss: 3.1687e-05 - accuracy: 1.0000\n",
      "Epoch 4/6\n",
      "125/125 [==============================] - 13s 104ms/step - loss: 2.8416e-05 - accuracy: 1.0000\n",
      "Epoch 5/6\n",
      "125/125 [==============================] - 13s 103ms/step - loss: 2.5904e-05 - accuracy: 1.0000\n",
      "Epoch 6/6\n",
      "125/125 [==============================] - 13s 104ms/step - loss: 2.3487e-05 - accuracy: 1.0000\n",
      "29/29 - 1s - loss: 0.7310 - accuracy: 0.8899 - 1s/epoch - 36ms/step\n",
      "\n",
      "Test accuracy: 0.8898678421974182\n"
     ]
    }
   ],
   "source": [
    "model.fit(train_final, train_labels, epochs=6)\n",
    "\n",
    "test_loss, test_acc = model.evaluate(test_final, test_labels, verbose=2)\n",
    "\n",
    "print('\\nTest accuracy:', test_acc)"
   ],
   "metadata": {
    "collapsed": false,
    "pycharm": {
     "name": "#%%\n"
    }
   }
  },
  {
   "cell_type": "markdown",
   "source": [
    "#### Step by step fit"
   ],
   "metadata": {
    "collapsed": false,
    "pycharm": {
     "name": "#%% md\n"
    }
   }
  },
  {
   "cell_type": "code",
   "execution_count": 232,
   "metadata": {
    "pycharm": {
     "name": "#%%\n"
    },
    "trusted": false
   },
   "outputs": [],
   "source": [
    "import time\n",
    "\n",
    "def current_milli_time():\n",
    "    return round(time.time() * 1000)\n",
    "\n",
    "current_time = current_milli_time()"
   ]
  },
  {
   "cell_type": "code",
   "execution_count": 233,
   "metadata": {
    "pycharm": {
     "name": "#%%\n"
    },
    "trusted": false
   },
   "outputs": [
    {
     "name": "stdout",
     "output_type": "stream",
     "text": [
      "1\n",
      "(3991, 240, 920, 3) (3991,)\n",
      "125/125 [==============================] - 308s 2s/step - loss: 82.8654 - accuracy: 0.5715\n",
      "29/29 - 16s - loss: 6.6697 - accuracy: 0.6399 - 16s/epoch - 551ms/step\n",
      "Test accuracy: 0.6398678421974182 \n",
      "\n",
      "2\n",
      "(3991, 240, 920, 3) (3991,)\n",
      "125/125 [==============================] - 307s 2s/step - loss: 5.0737 - accuracy: 0.6344\n",
      "29/29 - 16s - loss: 1.4905 - accuracy: 0.6410 - 16s/epoch - 561ms/step\n",
      "Test accuracy: 0.6409691572189331 \n",
      "\n",
      "3\n",
      "(3991, 240, 920, 3) (3991,)\n",
      "125/125 [==============================] - 307s 2s/step - loss: 1.6516 - accuracy: 0.5713\n",
      "29/29 - 16s - loss: 1.2799 - accuracy: 0.5143 - 16s/epoch - 552ms/step\n",
      "Test accuracy: 0.5143171548843384 \n",
      "\n",
      "4\n",
      "(3991, 240, 920, 3) (3991,)\n",
      "125/125 [==============================] - 307s 2s/step - loss: 1.5685 - accuracy: 0.5883\n",
      "29/29 - 16s - loss: 1.4434 - accuracy: 0.4758 - 16s/epoch - 549ms/step\n",
      "Test accuracy: 0.4757709205150604 \n",
      "\n",
      "5\n",
      "(3991, 240, 920, 3) (3991,)\n",
      "125/125 [==============================] - 307s 2s/step - loss: 1.3983 - accuracy: 0.6121\n",
      "29/29 - 16s - loss: 1.4060 - accuracy: 0.5176 - 16s/epoch - 557ms/step\n",
      "Test accuracy: 0.5176211595535278 \n",
      "\n",
      "6\n",
      "(3991, 240, 920, 3) (3991,)\n",
      "125/125 [==============================] - 307s 2s/step - loss: 1.2066 - accuracy: 0.6409\n",
      "29/29 - 16s - loss: 1.3718 - accuracy: 0.5573 - 16s/epoch - 549ms/step\n",
      "Test accuracy: 0.5572687387466431 \n",
      "\n",
      "7\n",
      "(3991, 240, 920, 3) (3991,)\n",
      "125/125 [==============================] - 307s 2s/step - loss: 1.1525 - accuracy: 0.6605\n",
      "29/29 - 16s - loss: 1.3025 - accuracy: 0.5595 - 16s/epoch - 556ms/step\n",
      "Test accuracy: 0.5594713687896729 \n",
      "\n",
      "8\n",
      "(3991, 240, 920, 3) (3991,)\n",
      "125/125 [==============================] - 307s 2s/step - loss: 1.1567 - accuracy: 0.6896\n",
      "29/29 - 16s - loss: 1.2919 - accuracy: 0.6024 - 16s/epoch - 556ms/step\n",
      "Test accuracy: 0.6024228930473328 \n",
      "\n",
      "9\n",
      "(3991, 240, 920, 3) (3991,)\n",
      "125/125 [==============================] - 307s 2s/step - loss: 1.0497 - accuracy: 0.6853\n",
      "29/29 - 16s - loss: 1.1897 - accuracy: 0.5661 - 16s/epoch - 559ms/step\n",
      "Test accuracy: 0.566079318523407 \n",
      "\n"
     ]
    }
   ],
   "source": [
    "i = 0\n",
    "while current_milli_time() - current_time <= 45 * 60 * 1000:\n",
    "    i += 1\n",
    "    print(i)\n",
    "    print(train_final.shape, train_labels.shape)\n",
    "    model.fit(train_final, train_labels, epochs=1)\n",
    "    test_loss, test_acc = model.evaluate(test_final, test_labels, verbose=2)\n",
    "    print('Test accuracy:', test_acc, '\\n')"
   ]
  },
  {
   "cell_type": "code",
   "execution_count": null,
   "metadata": {
    "pycharm": {
     "name": "#%%\n"
    },
    "trusted": false
   },
   "outputs": [],
   "source": [
    "test_loss, test_acc = model.evaluate(test_final, test_labels, verbose=2)\n",
    "print('Test accuracy:', test_acc, '\\n')"
   ]
  },
  {
   "cell_type": "markdown",
   "source": [
    "#### Save the model"
   ],
   "metadata": {
    "collapsed": false,
    "pycharm": {
     "name": "#%% md\n"
    }
   }
  },
  {
   "cell_type": "code",
   "execution_count": 389,
   "metadata": {
    "pycharm": {
     "name": "#%%\n"
    },
    "trusted": false
   },
   "outputs": [],
   "source": [
    "modelID = \"892AccWtf\"\n",
    "model.save(modelID + \".h5\")\n",
    "np.save(modelID + '_train_final.npy', train_final)\n",
    "np.save(modelID + '_test_final.npy', test_final)\n",
    "np.save(modelID + '_train_labels.npy', train_labels)\n",
    "np.save(modelID + '_test_labels.npy', test_labels)"
   ]
  },
  {
   "cell_type": "markdown",
   "source": [
    "#### Load the model"
   ],
   "metadata": {
    "collapsed": false,
    "pycharm": {
     "name": "#%% md\n"
    }
   }
  },
  {
   "cell_type": "code",
   "execution_count": null,
   "metadata": {
    "pycharm": {
     "name": "#%%\n"
    },
    "trusted": false
   },
   "outputs": [],
   "source": [
    "modelID = \"randomNeuralNetwork\"\n",
    "model = keras.models.load_model(modelID + \".h5\")\n",
    "train_final = np.load(modelID + '_train_final.npy')\n",
    "test_final = np.load(modelID + '_test_final.npy')\n",
    "train_labels = np.load(modelID + '_train_labels.npy')\n",
    "test_labels = np.load(modelID + '_test_labels.npy')"
   ]
  }
 ],
 "metadata": {
  "kernelspec": {
   "display_name": "Python 3 (ipykernel)",
   "language": "python",
   "name": "python3"
  },
  "language_info": {
   "codemirror_mode": {
    "name": "ipython",
    "version": 3
   },
   "file_extension": ".py",
   "mimetype": "text/x-python",
   "name": "python",
   "nbconvert_exporter": "python",
   "pygments_lexer": "ipython3",
   "version": "3.8.10"
  }
 },
 "nbformat": 4,
 "nbformat_minor": 1
}