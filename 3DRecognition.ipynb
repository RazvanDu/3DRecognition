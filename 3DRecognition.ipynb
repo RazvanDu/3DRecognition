{
 "cells": [
  {
   "cell_type": "markdown",
   "source": [
    "### Imports"
   ],
   "metadata": {
    "collapsed": false,
    "pycharm": {
     "name": "#%% md\n"
    }
   }
  },
  {
   "cell_type": "code",
   "execution_count": 1,
   "outputs": [],
   "source": [
    "import os\n",
    "import numpy as np\n",
    "import trimesh\n",
    "import random\n",
    "import math\n",
    "import matplotlib.pyplot as plt\n",
    "\n",
    "import tensorflow as tf\n",
    "import keras\n",
    "import keras.models\n",
    "\n",
    "from PIL import Image\n",
    "from random import seed\n",
    "from random import random\n",
    "from sklearn.decomposition import PCA"
   ],
   "metadata": {
    "collapsed": false,
    "pycharm": {
     "name": "#%%\n"
    },
    "trusted": false
   }
  },
  {
   "cell_type": "markdown",
   "source": [
    "### Read data"
   ],
   "metadata": {
    "collapsed": false,
    "pycharm": {
     "name": "#%% md\n"
    }
   }
  },
  {
   "cell_type": "code",
   "execution_count": 17,
   "metadata": {
    "pycharm": {
     "name": "#%%\n"
    },
    "trusted": false
   },
   "outputs": [],
   "source": [
    "def read_off(file):\n",
    "    return trimesh.load(file).sample(8192)\n",
    "\n",
    "\n",
    "def plot3D(data):\n",
    "    fig = plt.figure(figsize=(5, 5))\n",
    "    ax = fig.add_subplot(111, projection=\"3d\")\n",
    "    ax.scatter(data[:, 0], data[:, 1], data[:, 2])\n",
    "    ax.view_init(30, 200)\n",
    "\n",
    "\n",
    "def plot2DBW(data):\n",
    "    plt.imshow(data[1],'gray')\n",
    "    plt.show()"
   ]
  },
  {
   "cell_type": "code",
   "execution_count": 3,
   "metadata": {
    "pycharm": {
     "name": "#%%\n"
    },
    "trusted": false
   },
   "outputs": [
    {
     "name": "stdout",
     "output_type": "stream",
     "text": [
      "100\n",
      "200\n",
      "300\n",
      "400\n",
      "500\n",
      "600\n",
      "700\n",
      "800\n",
      "900\n",
      "1000\n",
      "1100\n",
      "1200\n",
      "1300\n",
      "1400\n",
      "1500\n",
      "1600\n",
      "1700\n",
      "1800\n",
      "1900\n",
      "2000\n",
      "2100\n",
      "2200\n",
      "2300\n",
      "2400\n",
      "2500\n",
      "2600\n",
      "2700\n",
      "2800\n",
      "2900\n",
      "3000\n",
      "3100\n",
      "3200\n",
      "3300\n",
      "3400\n",
      "3500\n",
      "3600\n",
      "3700\n",
      "3800\n",
      "3900\n",
      "4000\n",
      "4100\n",
      "4200\n",
      "4300\n",
      "4400\n",
      "4500\n",
      "4600\n",
      "4700\n",
      "4800\n"
     ]
    }
   ],
   "source": [
    "categories = [\"bathtub\", \"bed\", \"chair\", \"desk\", \"dresser\", \"monitor\", \"night_stand\", \"sofa\", \"table\", \"toilet\"]\n",
    "\n",
    "train_data = []\n",
    "test_data = []\n",
    "\n",
    "path = './ModelNet10/'\n",
    "\n",
    "current = 0\n",
    "\n",
    "for category in categories:\n",
    "\n",
    "    files_train = os.listdir(path + category + \"/train\")\n",
    "\n",
    "    for f in files_train:\n",
    "        train_data.append((category, read_off(path + category + \"/train/\" + f)))\n",
    "        current += 1\n",
    "        if current % 100 == 0:\n",
    "            print(current)\n",
    "\n",
    "    files_test = os.listdir(path + category + \"/test\")\n",
    "\n",
    "    for f in files_test:\n",
    "        test_data.append((category, read_off(path + category + \"/test/\" + f)))\n",
    "        current += 1\n",
    "        if current % 100 == 0:\n",
    "            print(current)"
   ]
  },
  {
   "cell_type": "markdown",
   "source": [
    "### Normalize"
   ],
   "metadata": {
    "collapsed": false,
    "pycharm": {
     "name": "#%% md\n"
    }
   }
  },
  {
   "cell_type": "code",
   "execution_count": 4,
   "outputs": [],
   "source": [
    "def normalize(train_data):\n",
    "    current = 0\n",
    "    normalizedSize = 240\n",
    "    new_train_data = []\n",
    "\n",
    "    maxXReal = 0\n",
    "    maxYReal = 0\n",
    "    maxZReal = 0\n",
    "\n",
    "    for model in train_data:\n",
    "        minX = 123123123\n",
    "        minY = 123123123\n",
    "        minZ = 123123123\n",
    "        maxX = -123123123\n",
    "        maxY = -123123123\n",
    "        maxZ = -123123123\n",
    "\n",
    "        for point in model[1]:\n",
    "            minX = min(minX, point[0])\n",
    "            minY = min(minY, point[1])\n",
    "            minZ = min(minZ, point[2])\n",
    "            maxX = max(maxX, point[0])\n",
    "            maxY = max(maxY, point[1])\n",
    "            maxZ = max(maxZ, point[2])\n",
    "\n",
    "        result = []\n",
    "\n",
    "        if maxX - minX >= maxY - minY and maxX - minX >= maxZ - minZ:\n",
    "            divRatio = maxX - minX\n",
    "        elif maxY - minY >= maxX - minX and maxY - minY >= maxZ - minZ:\n",
    "            divRatio = maxY - minY\n",
    "        else:\n",
    "            divRatio = maxZ - minZ\n",
    "\n",
    "        for point in model[1]:\n",
    "            newX = ((point[0] - minX) / divRatio) * normalizedSize\n",
    "            newY = ((point[1] - minY) / divRatio) * normalizedSize\n",
    "            newZ = ((point[2] - minZ) / (maxZ - minZ)) * normalizedSize\n",
    "\n",
    "            maxXReal = max(maxXReal, newX)\n",
    "            maxYReal = max(maxYReal, newY)\n",
    "            maxZReal = max(maxZReal, newZ)\n",
    "\n",
    "            result.append(np.array([newX, newY, newZ]))\n",
    "\n",
    "            # print(str(point[0]) + \" + \" + str(point[1]) + \" + \" + str(point[2]))\n",
    "\n",
    "        new_train_data.append((model[0], np.array(result)))\n",
    "\n",
    "        current += 1\n",
    "\n",
    "        if current % 100 == 0:\n",
    "            print(current)\n",
    "\n",
    "        # print(str(minX) + \" + \" + str(maxX))\n",
    "    return new_train_data"
   ],
   "metadata": {
    "collapsed": false,
    "pycharm": {
     "name": "#%%\n"
    },
    "trusted": false
   }
  },
  {
   "cell_type": "code",
   "execution_count": 5,
   "metadata": {
    "pycharm": {
     "name": "#%%\n"
    },
    "trusted": false
   },
   "outputs": [
    {
     "name": "stdout",
     "output_type": "stream",
     "text": [
      "100\n",
      "200\n",
      "300\n",
      "400\n",
      "500\n",
      "600\n",
      "700\n",
      "800\n",
      "900\n",
      "1000\n",
      "1100\n",
      "1200\n",
      "1300\n",
      "1400\n",
      "1500\n",
      "1600\n",
      "1700\n",
      "1800\n",
      "1900\n",
      "2000\n",
      "2100\n",
      "2200\n",
      "2300\n",
      "2400\n",
      "2500\n",
      "2600\n",
      "2700\n",
      "2800\n",
      "2900\n",
      "3000\n",
      "3100\n",
      "3200\n",
      "3300\n",
      "3400\n",
      "3500\n",
      "3600\n",
      "3700\n",
      "3800\n",
      "3900\n",
      "100\n",
      "200\n",
      "300\n",
      "400\n",
      "500\n",
      "600\n",
      "700\n",
      "800\n",
      "900\n"
     ]
    }
   ],
   "source": [
    "train_data_n = normalize(train_data)\n",
    "test_data_n = normalize(test_data)"
   ]
  },
  {
   "cell_type": "markdown",
   "source": [
    "### Process the data ( 2D simple slicing )"
   ],
   "metadata": {
    "collapsed": false,
    "pycharm": {
     "name": "#%% md\n"
    }
   }
  },
  {
   "cell_type": "code",
   "execution_count": 55,
   "outputs": [],
   "source": [
    "def changeView(data):\n",
    "    current = 0\n",
    "    normalizedSize = 240\n",
    "    images = []\n",
    "\n",
    "    for model in data:\n",
    "        slices = np.zeros((normalizedSize*4, normalizedSize*4), 'uint8')\n",
    "        for point in model[1]:\n",
    "            point_slice = int((point[2] - 0.001) / 15)\n",
    "            i = int(point_slice / 4)\n",
    "            j = int(point_slice % 4)\n",
    "            targetI = int(point[0] - 0.01 + i * normalizedSize)\n",
    "            targetJ = int(point[1] - 0.01 + j * normalizedSize)\n",
    "            for nextI in range(3):\n",
    "                for nextJ in range(3):\n",
    "                    goI = targetI + nextI - 1\n",
    "                    goJ = targetJ + nextJ - 1\n",
    "\n",
    "                    if goI < 0 or goI >= 4*normalizedSize or goJ < 0 or goJ >= 4*normalizedSize:\n",
    "                        continue\n",
    "\n",
    "                    slices[goI, goJ] = 1\n",
    "        images.append((model[0], slices))\n",
    "        current += 1\n",
    "        if current % 100 == 0:\n",
    "            print(current)\n",
    "\n",
    "    return images"
   ],
   "metadata": {
    "collapsed": false,
    "pycharm": {
     "name": "#%%\n"
    },
    "trusted": false
   }
  },
  {
   "cell_type": "code",
   "execution_count": 7,
   "metadata": {
    "pycharm": {
     "name": "#%%\n"
    },
    "trusted": false
   },
   "outputs": [
    {
     "name": "stdout",
     "output_type": "stream",
     "text": [
      "100\n",
      "200\n",
      "300\n",
      "400\n",
      "500\n",
      "600\n",
      "700\n",
      "800\n",
      "900\n",
      "1000\n",
      "1100\n",
      "1200\n",
      "1300\n",
      "1400\n",
      "1500\n",
      "1600\n",
      "1700\n",
      "1800\n",
      "1900\n",
      "2000\n",
      "2100\n",
      "2200\n",
      "2300\n",
      "2400\n",
      "2500\n",
      "2600\n",
      "2700\n",
      "2800\n",
      "2900\n",
      "3000\n",
      "3100\n",
      "3200\n",
      "3300\n",
      "3400\n",
      "3500\n",
      "3600\n",
      "3700\n",
      "3800\n",
      "3900\n",
      "100\n",
      "200\n",
      "300\n",
      "400\n",
      "500\n",
      "600\n",
      "700\n",
      "800\n",
      "900\n"
     ]
    }
   ],
   "source": [
    "train_images = changeView(train_data_n)\n",
    "test_images = changeView(test_data_n)"
   ]
  },
  {
   "cell_type": "code",
   "execution_count": 50,
   "outputs": [
    {
     "data": {
      "text/plain": "<Figure size 432x288 with 1 Axes>",
      "image/png": "[encoded data removed]"
     },
     "metadata": {
      "needs_background": "light"
     },
     "output_type": "display_data"
    }
   ],
   "source": [
    "plot2DBW(train_images[3])"
   ],
   "metadata": {
    "collapsed": false,
    "pycharm": {
     "name": "#%%\n"
    }
   }
  },
  {
   "cell_type": "markdown",
   "source": [
    "### Process the data ( 2D multiaxis slicing )"
   ],
   "metadata": {
    "collapsed": false,
    "pycharm": {
     "name": "#%% md\n"
    }
   }
  },
  {
   "cell_type": "code",
   "execution_count": 175,
   "outputs": [],
   "source": [
    "def changeViewRGB(data):\n",
    "    current = 0\n",
    "    normalizedSize = 240\n",
    "    images = []\n",
    "\n",
    "    for model in data:\n",
    "        slices = np.zeros((3, normalizedSize, normalizedSize, 3), 'uint8')\n",
    "        dividend = int(255/4)\n",
    "        for point in model[1]:\n",
    "            point_slice_x = int((point[0] - 0.001) / 20)\n",
    "            point_slice_y = int((point[1] - 0.001) / 20)\n",
    "            point_slice_z = int((point[2] - 0.001) / 20)\n",
    "            i = int(point_slice_x / 4)\n",
    "            j = int(point_slice_y / 4)\n",
    "            k = int(point_slice_z / 4)\n",
    "            for nextI in range(3):\n",
    "                for nextJ in range(3):\n",
    "\n",
    "                    goI = int(point[0] + nextI - 1 - 0.01)\n",
    "                    goJ = int(point[1] + nextJ - 1 - 0.01)\n",
    "\n",
    "                    if 0 <= goI < normalizedSize and 0 <= goJ < normalizedSize:\n",
    "                        slices[0, goI, goJ, k] += dividend\n",
    "\n",
    "                    goI = int(point[0] + nextI - 1 - 0.01)\n",
    "                    goJ = int(point[2] + nextJ - 1 - 0.01)\n",
    "\n",
    "                    if 0 <= goI < normalizedSize and 0 <= goJ < normalizedSize:\n",
    "                        slices[1, goI, goJ, j] += dividend\n",
    "\n",
    "                    goI = int(point[1] + nextI - 1 - 0.01)\n",
    "                    goJ = int(point[2] + nextJ - 1 - 0.01)\n",
    "\n",
    "                    if 0 <= goI < normalizedSize and 0 <= goJ < normalizedSize:\n",
    "                        slices[2, goI, goJ, i] += dividend\n",
    "\n",
    "                    #slices[int(point[0] - 0.01), int(point[1] - 0.01), i] |= (3 << (2 * j))\n",
    "\n",
    "\n",
    "        images.append((model[0], slices))\n",
    "        current += 1\n",
    "        if current % 100 == 0:\n",
    "            print(current)\n",
    "\n",
    "    return images"
   ],
   "metadata": {
    "collapsed": false,
    "pycharm": {
     "name": "#%%\n"
    }
   }
  },
  {
   "cell_type": "code",
   "execution_count": 176,
   "outputs": [],
   "source": [
    "train_images_rgb = changeViewRGB(train_data_n)\n",
    "test_images_rgb = changeViewRGB(test_data_n)"
   ],
   "metadata": {
    "collapsed": false,
    "pycharm": {
     "name": "#%%\n"
    }
   }
  },
  {
   "cell_type": "code",
   "execution_count": 177,
   "outputs": [],
   "source": [
    "def combineToSinglePicture(data):\n",
    "    images = []\n",
    "    normalizedSize = 240\n",
    "    for image in data:\n",
    "        slices = np.zeros((normalizedSize, normalizedSize*3 + 200, 3), 'uint8')\n",
    "        slices[:, 0:normalizedSize,:] = image[1][0,:,:]\n",
    "        slices[:, normalizedSize + 100:2*normalizedSize + 100,:] = image[1][1,:,:]\n",
    "        slices[:, 2*normalizedSize + 200: 3*normalizedSize + 200,:] = image[1][2,:,:]\n",
    "        images.append((image[0], slices))\n",
    "    return images"
   ],
   "metadata": {
    "collapsed": false,
    "pycharm": {
     "name": "#%%\n"
    }
   }
  },
  {
   "cell_type": "code",
   "execution_count": 178,
   "outputs": [],
   "source": [
    "train_images_rgb_combined = combineToSinglePicture(train_images_rgb)\n",
    "test_images_rgb_combined = combineToSinglePicture(test_images_rgb)"
   ],
   "metadata": {
    "collapsed": false,
    "pycharm": {
     "name": "#%%\n"
    }
   }
  },
  {
   "cell_type": "code",
   "execution_count": 190,
   "outputs": [
    {
     "name": "stdout",
     "output_type": "stream",
     "text": [
      "bathtub\n"
     ]
    },
    {
     "data": {
      "text/plain": "<Figure size 432x288 with 1 Axes>",
      "image/png": "[encoded data removed]"
     },
     "metadata": {
      "needs_background": "light"
     },
     "output_type": "display_data"
    }
   ],
   "source": [
    "index = 15\n",
    "print(train_images_rgb_combined[index][0])\n",
    "plt.imshow(train_images_rgb_combined[index][1])\n",
    "plt.show()"
   ],
   "metadata": {
    "collapsed": false,
    "pycharm": {
     "name": "#%%\n"
    }
   }
  },
  {
   "cell_type": "markdown",
   "source": [
    "### Prepare to feed to the model"
   ],
   "metadata": {
    "collapsed": false,
    "pycharm": {
     "name": "#%% md\n"
    }
   }
  },
  {
   "cell_type": "code",
   "execution_count": 71,
   "metadata": {
    "pycharm": {
     "name": "#%%\n"
    },
    "trusted": false
   },
   "outputs": [
    {
     "name": "stderr",
     "output_type": "stream",
     "text": "/tmp/ipykernel_126482/3398517217.py:1: VisibleDeprecationWarning: Creating an ndarray from ragged nested sequences (which is a list-or-tuple of lists-or-tuples-or ndarrays with different lengths or shapes) is deprecated. If you meant to do this, you must specify 'dtype=object' when creating the ndarray.\n  train_final = np.array([i[1] for i in train_images])\n"
    }
   ],
   "source": [
    "train_final = np.array([i[1] for i in train_images])\n",
    "train_labels = np.array([categories.index(l) for l in [i[0] for i in train_images]])"
   ]
  },
  {
   "cell_type": "code",
   "execution_count": 72,
   "outputs": [
    {
     "name": "stderr",
     "output_type": "stream",
     "text": "/tmp/ipykernel_126482/2808246889.py:1: VisibleDeprecationWarning: Creating an ndarray from ragged nested sequences (which is a list-or-tuple of lists-or-tuples-or ndarrays with different lengths or shapes) is deprecated. If you meant to do this, you must specify 'dtype=object' when creating the ndarray.\n  test_final = np.array([i[1] for i in test_images])\n"
    }
   ],
   "source": [
    "test_final = np.array([i[1] for i in test_images])\n",
    "test_labels = np.array([categories.index(l) for l in [i[0] for i in test_images]])"
   ],
   "metadata": {
    "collapsed": false,
    "pycharm": {
     "name": "#%%\n"
    },
    "trusted": false
   }
  },
  {
   "cell_type": "code",
   "execution_count": 78,
   "outputs": [
    {
     "data": {
      "text/plain": "(1184, 3, 2)"
     },
     "execution_count": 78,
     "metadata": {},
     "output_type": "execute_result"
    }
   ],
   "source": [
    "train_final[0].shape"
   ],
   "metadata": {
    "collapsed": false,
    "pycharm": {
     "name": "#%%\n"
    },
    "trusted": false
   }
  },
  {
   "cell_type": "markdown",
   "source": [
    "### The Model"
   ],
   "metadata": {
    "collapsed": false,
    "pycharm": {
     "name": "#%% md\n"
    }
   }
  },
  {
   "cell_type": "code",
   "execution_count": 79,
   "metadata": {
    "pycharm": {
     "name": "#%%\n"
    },
    "trusted": false
   },
   "outputs": [
    {
     "name": "stderr",
     "output_type": "stream",
     "text": "2022-01-14 18:55:31.742578: I tensorflow/stream_executor/cuda/cuda_gpu_executor.cc:939] successful NUMA node read from SysFS had negative value (-1), but there must be at least one NUMA node, so returning NUMA node zero\n2022-01-14 18:55:31.742846: W tensorflow/stream_executor/platform/default/dso_loader.cc:64] Could not load dynamic library 'libcudart.so.11.0'; dlerror: libcudart.so.11.0: cannot open shared object file: No such file or directory\n2022-01-14 18:55:31.742898: W tensorflow/stream_executor/platform/default/dso_loader.cc:64] Could not load dynamic library 'libcublas.so.11'; dlerror: libcublas.so.11: cannot open shared object file: No such file or directory\n2022-01-14 18:55:31.742940: W tensorflow/stream_executor/platform/default/dso_loader.cc:64] Could not load dynamic library 'libcublasLt.so.11'; dlerror: libcublasLt.so.11: cannot open shared object file: No such file or directory\n2022-01-14 18:55:31.742981: W tensorflow/stream_executor/platform/default/dso_loader.cc:64] Could not load dynamic library 'libcufft.so.10'; dlerror: libcufft.so.10: cannot open shared object file: No such file or directory\n2022-01-14 18:55:31.743022: W tensorflow/stream_executor/platform/default/dso_loader.cc:64] Could not load dynamic library 'libcurand.so.10'; dlerror: libcurand.so.10: cannot open shared object file: No such file or directory\n2022-01-14 18:55:31.743060: W tensorflow/stream_executor/platform/default/dso_loader.cc:64] Could not load dynamic library 'libcusolver.so.11'; dlerror: libcusolver.so.11: cannot open shared object file: No such file or directory\n2022-01-14 18:55:31.743100: W tensorflow/stream_executor/platform/default/dso_loader.cc:64] Could not load dynamic library 'libcusparse.so.11'; dlerror: libcusparse.so.11: cannot open shared object file: No such file or directory\n2022-01-14 18:55:31.743150: W tensorflow/stream_executor/platform/default/dso_loader.cc:64] Could not load dynamic library 'libcudnn.so.8'; dlerror: libcudnn.so.8: cannot open shared object file: No such file or directory\n2022-01-14 18:55:31.743166: W tensorflow/core/common_runtime/gpu/gpu_device.cc:1850] Cannot dlopen some GPU libraries. Please make sure the missing libraries mentioned above are installed properly if you would like to use GPU. Follow the guide at https://www.tensorflow.org/install/gpu for how to download and setup the required libraries for your platform.\nSkipping registering GPU devices...\n2022-01-14 18:55:31.743440: I tensorflow/core/platform/cpu_feature_guard.cc:151] This TensorFlow binary is optimized with oneAPI Deep Neural Network Library (oneDNN) to use the following CPU instructions in performance-critical operations:  AVX2 AVX512F FMA\nTo enable them in other operations, rebuild TensorFlow with the appropriate compiler flags.\n"
    }
   ],
   "source": [
    "model = tf.keras.Sequential([\n",
    "    # tf.keras.layers.Conv2D(60, kernel_size=(3, 3), input_shape=(240*4, 240*4, 1)),\n",
    "    # tf.keras.layers.MaxPool2D(pool_size=(8, 8)),\n",
    "    # tf.keras.layers.Conv2D(60, kernel_size=(3, 3)),\n",
    "    # tf.keras.layers.MaxPool2D(pool_size=(8, 8)), # !!! 2 2\n",
    "    tf.keras.layers.Flatten(),\n",
    "    # tf.keras.layers.Dropout(0.7),\n",
    "    tf.keras.layers.Dense(128, activation='relu'),\n",
    "    tf.keras.layers.Dense(64, activation='relu'),\n",
    "    #tf.keras.layers.Dropout(0.5),\n",
    "    tf.keras.layers.Dense(32, activation='relu'),\n",
    "    tf.keras.layers.Dense(64, activation='relu'),\n",
    "    tf.keras.layers.Dense(128, activation='relu'),\n",
    "    tf.keras.layers.Dense(64, activation='relu'),\n",
    "    tf.keras.layers.Dense(32, activation='relu'),\n",
    "    #tf.keras.layers.Dropout(0.5),\n",
    "    tf.keras.layers.Dense(64, activation='relu'),\n",
    "    tf.keras.layers.Dense(128, activation='relu'),\n",
    "    tf.keras.layers.Dense(64, activation='relu'),\n",
    "    tf.keras.layers.Dense(64, activation='relu'),\n",
    "    tf.keras.layers.Dense(64, activation='relu'),\n",
    "    #tf.keras.layers.Dropout(0.5),\n",
    "    #tf.keras.layers.Dense(512, activation='relu'),\n",
    "    #tf.keras.layers.Dropout(0.5),\n",
    "    #tf.keras.layers.Dense(256, activation='relu'),\n",
    "    #tf.keras.layers.Dropout(0.5),\n",
    "    tf.keras.layers.Dense(10, activation='softmax')\n",
    "])\n",
    "\n",
    "model.compile(optimizer='adam',\n",
    "              loss=tf.keras.losses.SparseCategoricalCrossentropy(from_logits=False),\n",
    "              metrics=['accuracy'])"
   ]
  },
  {
   "cell_type": "code",
   "execution_count": 82,
   "metadata": {
    "pycharm": {
     "name": "#%%\n"
    },
    "trusted": false
   },
   "outputs": [
    {
     "ename": "ValueError",
     "evalue": "Failed to convert a NumPy array to a Tensor (Unsupported object type numpy.ndarray).",
     "output_type": "error",
     "traceback": [
      "\u001B[0;31m---------------------------------------------------------------------------\u001B[0m",
      "\u001B[0;31mValueError\u001B[0m                                Traceback (most recent call last)",
      "\u001B[0;32m/tmp/ipykernel_126482/2169949178.py\u001B[0m in \u001B[0;36m<module>\u001B[0;34m\u001B[0m\n\u001B[0;32m----> 1\u001B[0;31m \u001B[0mmodel\u001B[0m\u001B[0;34m.\u001B[0m\u001B[0mfit\u001B[0m\u001B[0;34m(\u001B[0m\u001B[0mtrain_final\u001B[0m\u001B[0;34m,\u001B[0m \u001B[0mtrain_labels\u001B[0m\u001B[0;34m,\u001B[0m \u001B[0mepochs\u001B[0m\u001B[0;34m=\u001B[0m\u001B[0;36m40\u001B[0m\u001B[0;34m)\u001B[0m\u001B[0;34m\u001B[0m\u001B[0;34m\u001B[0m\u001B[0m\n\u001B[0m",
      "\u001B[0;32m~/ThreeObjectRecognition/research/lib/python3.8/site-packages/keras/utils/traceback_utils.py\u001B[0m in \u001B[0;36merror_handler\u001B[0;34m(*args, **kwargs)\u001B[0m\n\u001B[1;32m     65\u001B[0m     \u001B[0;32mexcept\u001B[0m \u001B[0mException\u001B[0m \u001B[0;32mas\u001B[0m \u001B[0me\u001B[0m\u001B[0;34m:\u001B[0m  \u001B[0;31m# pylint: disable=broad-except\u001B[0m\u001B[0;34m\u001B[0m\u001B[0;34m\u001B[0m\u001B[0m\n\u001B[1;32m     66\u001B[0m       \u001B[0mfiltered_tb\u001B[0m \u001B[0;34m=\u001B[0m \u001B[0m_process_traceback_frames\u001B[0m\u001B[0;34m(\u001B[0m\u001B[0me\u001B[0m\u001B[0;34m.\u001B[0m\u001B[0m__traceback__\u001B[0m\u001B[0;34m)\u001B[0m\u001B[0;34m\u001B[0m\u001B[0;34m\u001B[0m\u001B[0m\n\u001B[0;32m---> 67\u001B[0;31m       \u001B[0;32mraise\u001B[0m \u001B[0me\u001B[0m\u001B[0;34m.\u001B[0m\u001B[0mwith_traceback\u001B[0m\u001B[0;34m(\u001B[0m\u001B[0mfiltered_tb\u001B[0m\u001B[0;34m)\u001B[0m \u001B[0;32mfrom\u001B[0m \u001B[0;32mNone\u001B[0m\u001B[0;34m\u001B[0m\u001B[0;34m\u001B[0m\u001B[0m\n\u001B[0m\u001B[1;32m     68\u001B[0m     \u001B[0;32mfinally\u001B[0m\u001B[0;34m:\u001B[0m\u001B[0;34m\u001B[0m\u001B[0;34m\u001B[0m\u001B[0m\n\u001B[1;32m     69\u001B[0m       \u001B[0;32mdel\u001B[0m \u001B[0mfiltered_tb\u001B[0m\u001B[0;34m\u001B[0m\u001B[0;34m\u001B[0m\u001B[0m\n",
      "\u001B[0;32m~/ThreeObjectRecognition/research/lib/python3.8/site-packages/tensorflow/python/framework/constant_op.py\u001B[0m in \u001B[0;36mconvert_to_eager_tensor\u001B[0;34m(value, ctx, dtype)\u001B[0m\n\u001B[1;32m    104\u001B[0m       \u001B[0mdtype\u001B[0m \u001B[0;34m=\u001B[0m \u001B[0mdtypes\u001B[0m\u001B[0;34m.\u001B[0m\u001B[0mas_dtype\u001B[0m\u001B[0;34m(\u001B[0m\u001B[0mdtype\u001B[0m\u001B[0;34m)\u001B[0m\u001B[0;34m.\u001B[0m\u001B[0mas_datatype_enum\u001B[0m\u001B[0;34m\u001B[0m\u001B[0;34m\u001B[0m\u001B[0m\n\u001B[1;32m    105\u001B[0m   \u001B[0mctx\u001B[0m\u001B[0;34m.\u001B[0m\u001B[0mensure_initialized\u001B[0m\u001B[0;34m(\u001B[0m\u001B[0;34m)\u001B[0m\u001B[0;34m\u001B[0m\u001B[0;34m\u001B[0m\u001B[0m\n\u001B[0;32m--> 106\u001B[0;31m   \u001B[0;32mreturn\u001B[0m \u001B[0mops\u001B[0m\u001B[0;34m.\u001B[0m\u001B[0mEagerTensor\u001B[0m\u001B[0;34m(\u001B[0m\u001B[0mvalue\u001B[0m\u001B[0;34m,\u001B[0m \u001B[0mctx\u001B[0m\u001B[0;34m.\u001B[0m\u001B[0mdevice_name\u001B[0m\u001B[0;34m,\u001B[0m \u001B[0mdtype\u001B[0m\u001B[0;34m)\u001B[0m\u001B[0;34m\u001B[0m\u001B[0;34m\u001B[0m\u001B[0m\n\u001B[0m\u001B[1;32m    107\u001B[0m \u001B[0;34m\u001B[0m\u001B[0m\n\u001B[1;32m    108\u001B[0m \u001B[0;34m\u001B[0m\u001B[0m\n",
      "\u001B[0;31mValueError\u001B[0m: Failed to convert a NumPy array to a Tensor (Unsupported object type numpy.ndarray)."
     ]
    }
   ],
   "source": [
    "model.fit(train_final, train_labels, epochs=40)"
   ]
  },
  {
   "cell_type": "code",
   "execution_count": 65,
   "metadata": {
    "pycharm": {
     "name": "#%%\n"
    },
    "trusted": false
   },
   "outputs": [
    {
     "name": "stdout",
     "output_type": "stream",
     "text": "29/29 - 0s - loss: 4.4401 - accuracy: 0.1112 - 81ms/epoch - 3ms/step\n\nTest accuracy: 0.11123348027467728\n"
    }
   ],
   "source": [
    "test_loss, test_acc = model.evaluate(test_final, test_labels, verbose=2)\n",
    "\n",
    "print('\\nTest accuracy:', test_acc)"
   ]
  },
  {
   "cell_type": "markdown",
   "source": [
    "#### Step by step fit"
   ],
   "metadata": {
    "collapsed": false,
    "pycharm": {
     "name": "#%% md\n"
    }
   }
  },
  {
   "cell_type": "code",
   "execution_count": null,
   "metadata": {
    "pycharm": {
     "name": "#%%\n"
    },
    "trusted": false
   },
   "outputs": [],
   "source": [
    "i = 0"
   ]
  },
  {
   "cell_type": "code",
   "execution_count": null,
   "metadata": {
    "pycharm": {
     "name": "#%%\n"
    },
    "trusted": false
   },
   "outputs": [],
   "source": [
    "while 1:\n",
    "    i += 1\n",
    "    print(i)\n",
    "    print(train_final.shape, train_labels.shape)\n",
    "    model.fit(train_final, train_labels, epochs=1)\n",
    "    test_loss, test_acc = model.evaluate(test_final, test_labels, verbose=2)\n",
    "    print('Test accuracy:', test_acc, '\\n')"
   ]
  },
  {
   "cell_type": "code",
   "execution_count": null,
   "metadata": {
    "pycharm": {
     "name": "#%%\n"
    },
    "trusted": false
   },
   "outputs": [],
   "source": "test_loss, test_acc = model.evaluate(test_final, test_labels, verbose=2)\nprint('Test accuracy:', test_acc, '\\n')"
  },
  {
   "cell_type": "markdown",
   "source": "#### Save the model",
   "metadata": {
    "collapsed": false,
    "pycharm": {
     "name": "#%% md\n"
    }
   }
  },
  {
   "cell_type": "code",
   "execution_count": null,
   "metadata": {
    "pycharm": {
     "name": "#%%\n"
    },
    "trusted": false
   },
   "outputs": [],
   "source": "model.save(\"third.h5\")\nnp.save('train_final_third.npy', train_final)\nnp.save('test_final_third.npy', test_final)\nnp.save('train_labels_third.npy', train_labels)\nnp.save('test_labels_third.npy', test_labels)"
  },
  {
   "cell_type": "markdown",
   "source": "#### Load the model",
   "metadata": {
    "collapsed": false,
    "pycharm": {
     "name": "#%% md\n"
    }
   }
  },
  {
   "cell_type": "code",
   "execution_count": null,
   "metadata": {
    "pycharm": {
     "name": "#%%\n"
    },
    "trusted": false
   },
   "outputs": [],
   "source": "model = keras.models.load_model(\"third.h5\")\ntrain_final = np.load(\"train_final_third.npy\")\ntest_final = np.load(\"test_final_third.npy\")\ntrain_labels = np.load(\"train_labels_third.npy\")\ntest_labels = np.load(\"test_labels_third.npy\")"
  }
 ],
 "metadata": {
  "kernelspec": {
   "display_name": "Python 3 (ipykernel)",
   "language": "python",
   "name": "python3"
  },
  "language_info": {
   "codemirror_mode": {
    "name": "ipython",
    "version": 3
   },
   "file_extension": ".py",
   "mimetype": "text/x-python",
   "name": "python",
   "nbconvert_exporter": "python",
   "pygments_lexer": "ipython3",
   "version": "3.8.10"
  }
 },
 "nbformat": 4,
 "nbformat_minor": 1
}